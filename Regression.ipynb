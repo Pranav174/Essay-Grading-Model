{
 "cells": [
  {
   "cell_type": "code",
   "execution_count": 1,
   "metadata": {},
   "outputs": [],
   "source": [
    "import pandas as pd\n",
    "import numpy as np\n",
    "import matplotlib.pyplot as plt\n",
    "import re\n",
    "from tqdm import tqdm\n",
    "import tensorflow as tf\n",
    "from tensorflow import keras\n",
    "from tensorflow.keras import layers\n",
    "from gensim.models import Word2Vec\n",
    "import spacy; from spacy.lang.en import English; nlp = English()\n",
    "from metrics import *\n",
    "from utils import *"
   ]
  },
  {
   "cell_type": "code",
   "execution_count": 2,
   "metadata": {},
   "outputs": [
    {
     "name": "stderr",
     "output_type": "stream",
     "text": [
      "/home/pranav_pro/SchoolSystem/models/essay/utils.py:6: UserWarning: This pattern has match groups. To actually get the groups, use str.extract.\n",
      "  data['illegible']=data.essay.str.contains('(\\?\\?\\?|illegible|not legible)')\n"
     ]
    }
   ],
   "source": [
    "data = getData()"
   ]
  },
  {
   "cell_type": "code",
   "execution_count": 3,
   "metadata": {},
   "outputs": [
    {
     "name": "stderr",
     "output_type": "stream",
     "text": [
      "/home/pranav_pro/SchoolSystem/.venv/lib/python3.6/site-packages/ipykernel_launcher.py:2: DeprecationWarning: Call to deprecated `syn0` (Attribute will be removed in 4.0.0, use self.vectors instead).\n",
      "  \n"
     ]
    }
   ],
   "source": [
    "w2vModel = Word2Vec.load('Essayw2v.model')\n",
    "w2v = dict(zip(w2vModel.wv.index2word, w2vModel.wv.syn0))"
   ]
  },
  {
   "cell_type": "code",
   "execution_count": 4,
   "metadata": {},
   "outputs": [],
   "source": [
    "def convert2vec(essay):\n",
    "    essay = basicClean(essay)\n",
    "    essay = replaceNER(essay)\n",
    "    essay = nlp(essay)\n",
    "#     essay = [token.text for token in essay if ((not token.is_punct) and (not token.is_stop))]\n",
    "    essay = [token.text for token in essay if (not token.is_punct)]\n",
    "\n",
    "    found = 0\n",
    "    embedding = np.zeros(300,dtype=\"float32\")\n",
    "    for word in essay:\n",
    "        if word in w2v:\n",
    "            found+=1\n",
    "            embedding += w2v[word]\n",
    "    if found>0:\n",
    "        embedding = np.divide(embedding,found)\n",
    "    return embedding"
   ]
  },
  {
   "cell_type": "code",
   "execution_count": 5,
   "metadata": {
    "scrolled": true
   },
   "outputs": [
    {
     "name": "stderr",
     "output_type": "stream",
     "text": [
      "100%|██████████| 12701/12701 [00:21<00:00, 598.24it/s]\n"
     ]
    }
   ],
   "source": [
    "tqdm.pandas()\n",
    "data['emb'] = data['essay'].progress_apply(lambda x: convert2vec(x))"
   ]
  },
  {
   "cell_type": "code",
   "execution_count": 6,
   "metadata": {},
   "outputs": [
    {
     "data": {
      "text/html": [
       "<div>\n",
       "<style scoped>\n",
       "    .dataframe tbody tr th:only-of-type {\n",
       "        vertical-align: middle;\n",
       "    }\n",
       "\n",
       "    .dataframe tbody tr th {\n",
       "        vertical-align: top;\n",
       "    }\n",
       "\n",
       "    .dataframe thead th {\n",
       "        text-align: right;\n",
       "    }\n",
       "</style>\n",
       "<table border=\"1\" class=\"dataframe\">\n",
       "  <thead>\n",
       "    <tr style=\"text-align: right;\">\n",
       "      <th></th>\n",
       "      <th>essay_id</th>\n",
       "      <th>essay_set</th>\n",
       "      <th>essay</th>\n",
       "      <th>rater1_domain1</th>\n",
       "      <th>rater2_domain1</th>\n",
       "      <th>rater3_domain1</th>\n",
       "      <th>domain1_score</th>\n",
       "      <th>rater1_domain2</th>\n",
       "      <th>rater2_domain2</th>\n",
       "      <th>domain2_score</th>\n",
       "      <th>...</th>\n",
       "      <th>rater2_trait5</th>\n",
       "      <th>rater2_trait6</th>\n",
       "      <th>rater3_trait1</th>\n",
       "      <th>rater3_trait2</th>\n",
       "      <th>rater3_trait3</th>\n",
       "      <th>rater3_trait4</th>\n",
       "      <th>rater3_trait5</th>\n",
       "      <th>rater3_trait6</th>\n",
       "      <th>emb</th>\n",
       "      <th>final_score</th>\n",
       "    </tr>\n",
       "  </thead>\n",
       "  <tbody>\n",
       "    <tr>\n",
       "      <th>0</th>\n",
       "      <td>1</td>\n",
       "      <td>1</td>\n",
       "      <td>Dear local newspaper, I think effects computer...</td>\n",
       "      <td>4</td>\n",
       "      <td>4</td>\n",
       "      <td>NaN</td>\n",
       "      <td>8</td>\n",
       "      <td>NaN</td>\n",
       "      <td>NaN</td>\n",
       "      <td>NaN</td>\n",
       "      <td>...</td>\n",
       "      <td>NaN</td>\n",
       "      <td>NaN</td>\n",
       "      <td>NaN</td>\n",
       "      <td>NaN</td>\n",
       "      <td>NaN</td>\n",
       "      <td>NaN</td>\n",
       "      <td>NaN</td>\n",
       "      <td>NaN</td>\n",
       "      <td>[0.4341401, 0.3484266, -0.0023661503, -0.19002...</td>\n",
       "      <td>40</td>\n",
       "    </tr>\n",
       "    <tr>\n",
       "      <th>1</th>\n",
       "      <td>2</td>\n",
       "      <td>1</td>\n",
       "      <td>Dear @CAPS1 @CAPS2, I believe that using compu...</td>\n",
       "      <td>5</td>\n",
       "      <td>4</td>\n",
       "      <td>NaN</td>\n",
       "      <td>9</td>\n",
       "      <td>NaN</td>\n",
       "      <td>NaN</td>\n",
       "      <td>NaN</td>\n",
       "      <td>...</td>\n",
       "      <td>NaN</td>\n",
       "      <td>NaN</td>\n",
       "      <td>NaN</td>\n",
       "      <td>NaN</td>\n",
       "      <td>NaN</td>\n",
       "      <td>NaN</td>\n",
       "      <td>NaN</td>\n",
       "      <td>NaN</td>\n",
       "      <td>[0.455531, 0.36978564, 0.09307918, -0.08629133...</td>\n",
       "      <td>45</td>\n",
       "    </tr>\n",
       "    <tr>\n",
       "      <th>2</th>\n",
       "      <td>3</td>\n",
       "      <td>1</td>\n",
       "      <td>Dear, @CAPS1 @CAPS2 @CAPS3 More and more peopl...</td>\n",
       "      <td>4</td>\n",
       "      <td>3</td>\n",
       "      <td>NaN</td>\n",
       "      <td>7</td>\n",
       "      <td>NaN</td>\n",
       "      <td>NaN</td>\n",
       "      <td>NaN</td>\n",
       "      <td>...</td>\n",
       "      <td>NaN</td>\n",
       "      <td>NaN</td>\n",
       "      <td>NaN</td>\n",
       "      <td>NaN</td>\n",
       "      <td>NaN</td>\n",
       "      <td>NaN</td>\n",
       "      <td>NaN</td>\n",
       "      <td>NaN</td>\n",
       "      <td>[0.39665243, 0.23396325, 0.020574056, -0.13223...</td>\n",
       "      <td>35</td>\n",
       "    </tr>\n",
       "    <tr>\n",
       "      <th>3</th>\n",
       "      <td>4</td>\n",
       "      <td>1</td>\n",
       "      <td>Dear Local Newspaper, @CAPS1 I have found that...</td>\n",
       "      <td>5</td>\n",
       "      <td>5</td>\n",
       "      <td>NaN</td>\n",
       "      <td>10</td>\n",
       "      <td>NaN</td>\n",
       "      <td>NaN</td>\n",
       "      <td>NaN</td>\n",
       "      <td>...</td>\n",
       "      <td>NaN</td>\n",
       "      <td>NaN</td>\n",
       "      <td>NaN</td>\n",
       "      <td>NaN</td>\n",
       "      <td>NaN</td>\n",
       "      <td>NaN</td>\n",
       "      <td>NaN</td>\n",
       "      <td>NaN</td>\n",
       "      <td>[0.42362538, 0.2999937, -0.06951589, -0.024058...</td>\n",
       "      <td>50</td>\n",
       "    </tr>\n",
       "    <tr>\n",
       "      <th>4</th>\n",
       "      <td>5</td>\n",
       "      <td>1</td>\n",
       "      <td>Dear @LOCATION1, I know having computers has a...</td>\n",
       "      <td>4</td>\n",
       "      <td>4</td>\n",
       "      <td>NaN</td>\n",
       "      <td>8</td>\n",
       "      <td>NaN</td>\n",
       "      <td>NaN</td>\n",
       "      <td>NaN</td>\n",
       "      <td>...</td>\n",
       "      <td>NaN</td>\n",
       "      <td>NaN</td>\n",
       "      <td>NaN</td>\n",
       "      <td>NaN</td>\n",
       "      <td>NaN</td>\n",
       "      <td>NaN</td>\n",
       "      <td>NaN</td>\n",
       "      <td>NaN</td>\n",
       "      <td>[0.35722917, 0.33758688, 0.26486138, -0.109733...</td>\n",
       "      <td>40</td>\n",
       "    </tr>\n",
       "  </tbody>\n",
       "</table>\n",
       "<p>5 rows × 30 columns</p>\n",
       "</div>"
      ],
      "text/plain": [
       "   essay_id  essay_set                                              essay  \\\n",
       "0         1          1  Dear local newspaper, I think effects computer...   \n",
       "1         2          1  Dear @CAPS1 @CAPS2, I believe that using compu...   \n",
       "2         3          1  Dear, @CAPS1 @CAPS2 @CAPS3 More and more peopl...   \n",
       "3         4          1  Dear Local Newspaper, @CAPS1 I have found that...   \n",
       "4         5          1  Dear @LOCATION1, I know having computers has a...   \n",
       "\n",
       "   rater1_domain1  rater2_domain1  rater3_domain1  domain1_score  \\\n",
       "0               4               4             NaN              8   \n",
       "1               5               4             NaN              9   \n",
       "2               4               3             NaN              7   \n",
       "3               5               5             NaN             10   \n",
       "4               4               4             NaN              8   \n",
       "\n",
       "   rater1_domain2  rater2_domain2  domain2_score  ...  rater2_trait5  \\\n",
       "0             NaN             NaN            NaN  ...            NaN   \n",
       "1             NaN             NaN            NaN  ...            NaN   \n",
       "2             NaN             NaN            NaN  ...            NaN   \n",
       "3             NaN             NaN            NaN  ...            NaN   \n",
       "4             NaN             NaN            NaN  ...            NaN   \n",
       "\n",
       "   rater2_trait6  rater3_trait1  rater3_trait2  rater3_trait3  rater3_trait4  \\\n",
       "0            NaN            NaN            NaN            NaN            NaN   \n",
       "1            NaN            NaN            NaN            NaN            NaN   \n",
       "2            NaN            NaN            NaN            NaN            NaN   \n",
       "3            NaN            NaN            NaN            NaN            NaN   \n",
       "4            NaN            NaN            NaN            NaN            NaN   \n",
       "\n",
       "   rater3_trait5  rater3_trait6  \\\n",
       "0            NaN            NaN   \n",
       "1            NaN            NaN   \n",
       "2            NaN            NaN   \n",
       "3            NaN            NaN   \n",
       "4            NaN            NaN   \n",
       "\n",
       "                                                 emb  final_score  \n",
       "0  [0.4341401, 0.3484266, -0.0023661503, -0.19002...           40  \n",
       "1  [0.455531, 0.36978564, 0.09307918, -0.08629133...           45  \n",
       "2  [0.39665243, 0.23396325, 0.020574056, -0.13223...           35  \n",
       "3  [0.42362538, 0.2999937, -0.06951589, -0.024058...           50  \n",
       "4  [0.35722917, 0.33758688, 0.26486138, -0.109733...           40  \n",
       "\n",
       "[5 rows x 30 columns]"
      ]
     },
     "execution_count": 6,
     "metadata": {},
     "output_type": "execute_result"
    }
   ],
   "source": [
    "data['final_score'] = data['domain1_score']\n",
    "mul = [5,10,20,20,15,15,2,1]\n",
    "data['final_score'] = data.apply(lambda row: row['final_score']*mul[row['essay_set']-1], axis=1)\n",
    "# nndata.groupby('essay_set').describe()\n",
    "# data.describe()\n",
    "data.head()"
   ]
  },
  {
   "cell_type": "code",
   "execution_count": 23,
   "metadata": {
    "scrolled": true
   },
   "outputs": [],
   "source": [
    "def buildData():  \n",
    "    nndata = data.copy()\n",
    "#     nndata = nndata[(nndata['essay_set']!=7) & (nndata['essay_set']!=8)]\n",
    "    nndata = nndata[['emb', 'final_score']]\n",
    "    train_data = nndata.sample(frac=0.9)\n",
    "    test_data = nndata.drop(train_data.index)\n",
    "    train_labels = train_data.pop('final_score')\n",
    "    test_labels = test_data.pop('final_score')\n",
    "\n",
    "    trainX = np.zeros((len(train_data['emb']),300))\n",
    "    for i,emb in enumerate(train_data['emb']):\n",
    "        trainX[i]=emb\n",
    "    testX = np.zeros((len(test_data['emb']),300))\n",
    "    for i,emb in enumerate(test_data['emb']):\n",
    "        testX[i]=emb\n",
    "    trainY=np.array(train_labels)/60\n",
    "    testY=np.array(test_labels)/60\n",
    "#     np.shape(trainX)\n",
    "    return trainX, trainY, testX, testY"
   ]
  },
  {
   "cell_type": "code",
   "execution_count": 24,
   "metadata": {},
   "outputs": [],
   "source": [
    "def build_model():\n",
    "  model = keras.Sequential([\n",
    "    layers.Dense(64, activation=tf.nn.relu, input_shape=(300,)),\n",
    "    layers.Dropout(0.5),\n",
    "    layers.Dense(128, activation=tf.nn.relu),\n",
    "    layers.Dropout(0.5),\n",
    "    layers.Dense(1,activation=\"linear\")\n",
    "  ])\n",
    "\n",
    "  optimizer = tf.keras.optimizers.RMSprop(0.001)\n",
    "\n",
    "  model.compile(loss='mean_squared_error',\n",
    "                optimizer='adam',\n",
    "                metrics=['mean_squared_error'])\n",
    "  return model"
   ]
  },
  {
   "cell_type": "code",
   "execution_count": 25,
   "metadata": {},
   "outputs": [],
   "source": [
    "from tensorflow.keras.callbacks import Callback\n",
    "\n",
    "class IntervalEvaluation(Callback):\n",
    "    def __init__(self, validation_data=(), interval=10):\n",
    "        super(Callback, self).__init__()\n",
    "\n",
    "        self.interval = interval\n",
    "        self.X_val, self.y_val = validation_data\n",
    "\n",
    "    def on_epoch_end(self, epoch, logs={}):\n",
    "        if epoch % self.interval == 0:\n",
    "            y_pred = self.model.predict_proba(self.X_val, verbose=0)\n",
    "            score = kappa(self.y_val, y_pred,weights='quadratic')\n",
    "            print(\"interval evaluation - epoch: {:d} - score: {:.6f}\".format(epoch, score))"
   ]
  },
  {
   "cell_type": "code",
   "execution_count": 27,
   "metadata": {
    "scrolled": true
   },
   "outputs": [
    {
     "name": "stdout",
     "output_type": "stream",
     "text": [
      "_________________________________________________________________\n",
      "Layer (type)                 Output Shape              Param #   \n",
      "=================================================================\n",
      "dense_6 (Dense)              (None, 64)                19264     \n",
      "_________________________________________________________________\n",
      "dropout_4 (Dropout)          (None, 64)                0         \n",
      "_________________________________________________________________\n",
      "dense_7 (Dense)              (None, 128)               8320      \n",
      "_________________________________________________________________\n",
      "dropout_5 (Dropout)          (None, 128)               0         \n",
      "_________________________________________________________________\n",
      "dense_8 (Dense)              (None, 1)                 129       \n",
      "=================================================================\n",
      "Total params: 27,713\n",
      "Trainable params: 27,713\n",
      "Non-trainable params: 0\n",
      "_________________________________________________________________\n",
      "Train on 10287 samples, validate on 1144 samples\n",
      "Epoch 1/50\n",
      "10208/10287 [============================>.] - ETA: 0s - loss: 0.0786 - mean_squared_error: 0.0786interval evaluation - epoch: 0 - score: 0.106353\n",
      "10287/10287 [==============================] - 2s 175us/sample - loss: 0.0784 - mean_squared_error: 0.0784 - val_loss: 0.0443 - val_mean_squared_error: 0.0443\n",
      "Epoch 2/50\n",
      "10176/10287 [============================>.] - ETA: 0s - loss: 0.0482 - mean_squared_error: 0.0482interval evaluation - epoch: 1 - score: 0.268427\n",
      "10287/10287 [==============================] - 2s 170us/sample - loss: 0.0481 - mean_squared_error: 0.0481 - val_loss: 0.0390 - val_mean_squared_error: 0.0390\n",
      "Epoch 3/50\n",
      "10272/10287 [============================>.] - ETA: 0s - loss: 0.0440 - mean_squared_error: 0.0440interval evaluation - epoch: 2 - score: 0.376115\n",
      "10287/10287 [==============================] - 2s 160us/sample - loss: 0.0440 - mean_squared_error: 0.0440 - val_loss: 0.0353 - val_mean_squared_error: 0.0353\n",
      "Epoch 4/50\n",
      " 9664/10287 [===========================>..] - ETA: 0s - loss: 0.0403 - mean_squared_error: 0.0403interval evaluation - epoch: 3 - score: 0.312565\n",
      "10287/10287 [==============================] - 1s 93us/sample - loss: 0.0401 - mean_squared_error: 0.0401 - val_loss: 0.0344 - val_mean_squared_error: 0.0344\n",
      "Epoch 5/50\n",
      " 9760/10287 [===========================>..] - ETA: 0s - loss: 0.0382 - mean_squared_error: 0.0382interval evaluation - epoch: 4 - score: 0.395427\n",
      "10287/10287 [==============================] - 1s 92us/sample - loss: 0.0382 - mean_squared_error: 0.0382 - val_loss: 0.0326 - val_mean_squared_error: 0.0326\n",
      "Epoch 6/50\n",
      " 9760/10287 [===========================>..] - ETA: 0s - loss: 0.0359 - mean_squared_error: 0.0359interval evaluation - epoch: 5 - score: 0.388405\n",
      "10287/10287 [==============================] - 1s 92us/sample - loss: 0.0360 - mean_squared_error: 0.0360 - val_loss: 0.0323 - val_mean_squared_error: 0.0323\n",
      "Epoch 7/50\n",
      "10048/10287 [============================>.] - ETA: 0s - loss: 0.0339 - mean_squared_error: 0.0339interval evaluation - epoch: 6 - score: 0.413119\n",
      "10287/10287 [==============================] - 1s 97us/sample - loss: 0.0340 - mean_squared_error: 0.0340 - val_loss: 0.0315 - val_mean_squared_error: 0.0315\n",
      "Epoch 8/50\n",
      " 9952/10287 [============================>.] - ETA: 0s - loss: 0.0330 - mean_squared_error: 0.0330interval evaluation - epoch: 7 - score: 0.370730\n",
      "10287/10287 [==============================] - 1s 96us/sample - loss: 0.0329 - mean_squared_error: 0.0329 - val_loss: 0.0320 - val_mean_squared_error: 0.0320\n",
      "Epoch 9/50\n",
      " 9792/10287 [===========================>..] - ETA: 0s - loss: 0.0320 - mean_squared_error: 0.0320interval evaluation - epoch: 8 - score: 0.411553\n",
      "10287/10287 [==============================] - 1s 120us/sample - loss: 0.0319 - mean_squared_error: 0.0319 - val_loss: 0.0314 - val_mean_squared_error: 0.0314\n",
      "Epoch 10/50\n",
      "10080/10287 [============================>.] - ETA: 0s - loss: 0.0317 - mean_squared_error: 0.0317interval evaluation - epoch: 9 - score: 0.408939\n",
      "10287/10287 [==============================] - 1s 129us/sample - loss: 0.0317 - mean_squared_error: 0.0317 - val_loss: 0.0309 - val_mean_squared_error: 0.0309\n",
      "Epoch 11/50\n",
      "10176/10287 [============================>.] - ETA: 0s - loss: 0.0305 - mean_squared_error: 0.0305interval evaluation - epoch: 10 - score: 0.373996\n",
      "10287/10287 [==============================] - 1s 127us/sample - loss: 0.0306 - mean_squared_error: 0.0306 - val_loss: 0.0314 - val_mean_squared_error: 0.0314\n",
      "Epoch 12/50\n",
      "10016/10287 [============================>.] - ETA: 0s - loss: 0.0306 - mean_squared_error: 0.0306interval evaluation - epoch: 11 - score: 0.417836\n",
      "10287/10287 [==============================] - 1s 125us/sample - loss: 0.0305 - mean_squared_error: 0.0305 - val_loss: 0.0309 - val_mean_squared_error: 0.0309\n",
      "Epoch 13/50\n",
      "10112/10287 [============================>.] - ETA: 0s - loss: 0.0299 - mean_squared_error: 0.0299interval evaluation - epoch: 12 - score: 0.346487\n",
      "10287/10287 [==============================] - 1s 99us/sample - loss: 0.0299 - mean_squared_error: 0.0299 - val_loss: 0.0306 - val_mean_squared_error: 0.0306\n",
      "Epoch 14/50\n",
      " 9728/10287 [===========================>..] - ETA: 0s - loss: 0.0288 - mean_squared_error: 0.0288interval evaluation - epoch: 13 - score: 0.401155\n",
      "10287/10287 [==============================] - 1s 98us/sample - loss: 0.0290 - mean_squared_error: 0.0290 - val_loss: 0.0319 - val_mean_squared_error: 0.0319\n",
      "Epoch 15/50\n",
      " 9856/10287 [===========================>..] - ETA: 0s - loss: 0.0287 - mean_squared_error: 0.0287interval evaluation - epoch: 14 - score: 0.383272\n",
      "10287/10287 [==============================] - 1s 125us/sample - loss: 0.0288 - mean_squared_error: 0.0288 - val_loss: 0.0316 - val_mean_squared_error: 0.0316\n",
      "Epoch 16/50\n",
      " 9888/10287 [===========================>..] - ETA: 0s - loss: 0.0289 - mean_squared_error: 0.0289WARNING:tensorflow:Network returning invalid probability values. The last layer might not normalize predictions into probabilities (like softmax or sigmoid would).\n",
      "interval evaluation - epoch: 15 - score: 0.396358\n",
      "10287/10287 [==============================] - 1s 145us/sample - loss: 0.0288 - mean_squared_error: 0.0288 - val_loss: 0.0294 - val_mean_squared_error: 0.0294\n",
      "Epoch 17/50\n",
      " 9984/10287 [============================>.] - ETA: 0s - loss: 0.0287 - mean_squared_error: 0.0287interval evaluation - epoch: 16 - score: 0.387565\n",
      "10287/10287 [==============================] - 2s 146us/sample - loss: 0.0286 - mean_squared_error: 0.0286 - val_loss: 0.0299 - val_mean_squared_error: 0.0299\n",
      "Epoch 18/50\n",
      "10144/10287 [============================>.] - ETA: 0s - loss: 0.0279 - mean_squared_error: 0.0279interval evaluation - epoch: 17 - score: 0.352630\n",
      "10287/10287 [==============================] - 2s 146us/sample - loss: 0.0279 - mean_squared_error: 0.0279 - val_loss: 0.0313 - val_mean_squared_error: 0.0313\n",
      "Epoch 19/50\n",
      "10272/10287 [============================>.] - ETA: 0s - loss: 0.0278 - mean_squared_error: 0.0278interval evaluation - epoch: 18 - score: 0.390169\n",
      "10287/10287 [==============================] - 1s 138us/sample - loss: 0.0278 - mean_squared_error: 0.0278 - val_loss: 0.0296 - val_mean_squared_error: 0.0296\n",
      "Epoch 20/50\n",
      "10240/10287 [============================>.] - ETA: 0s - loss: 0.0273 - mean_squared_error: 0.0273interval evaluation - epoch: 19 - score: 0.397431\n",
      "10287/10287 [==============================] - 1s 141us/sample - loss: 0.0273 - mean_squared_error: 0.0273 - val_loss: 0.0298 - val_mean_squared_error: 0.0298\n",
      "Epoch 21/50\n",
      " 9920/10287 [===========================>..] - ETA: 0s - loss: 0.0270 - mean_squared_error: 0.0270interval evaluation - epoch: 20 - score: 0.349437\n",
      "10287/10287 [==============================] - 1s 145us/sample - loss: 0.0271 - mean_squared_error: 0.0271 - val_loss: 0.0304 - val_mean_squared_error: 0.0304\n",
      "Epoch 22/50\n",
      "10208/10287 [============================>.] - ETA: 0s - loss: 0.0267 - mean_squared_error: 0.0267interval evaluation - epoch: 21 - score: 0.368590\n",
      "10287/10287 [==============================] - 1s 145us/sample - loss: 0.0266 - mean_squared_error: 0.0266 - val_loss: 0.0295 - val_mean_squared_error: 0.0295\n"
     ]
    },
    {
     "name": "stdout",
     "output_type": "stream",
     "text": [
      "Epoch 23/50\n",
      "10144/10287 [============================>.] - ETA: 0s - loss: 0.0266 - mean_squared_error: 0.0266interval evaluation - epoch: 22 - score: 0.368020\n",
      "10287/10287 [==============================] - 1s 145us/sample - loss: 0.0266 - mean_squared_error: 0.0266 - val_loss: 0.0300 - val_mean_squared_error: 0.0300\n",
      "Epoch 24/50\n",
      "10080/10287 [============================>.] - ETA: 0s - loss: 0.0264 - mean_squared_error: 0.0264interval evaluation - epoch: 23 - score: 0.351820\n",
      "10287/10287 [==============================] - 1s 138us/sample - loss: 0.0264 - mean_squared_error: 0.0264 - val_loss: 0.0298 - val_mean_squared_error: 0.0298\n",
      "Epoch 25/50\n",
      "10112/10287 [============================>.] - ETA: 0s - loss: 0.0264 - mean_squared_error: 0.0264interval evaluation - epoch: 24 - score: 0.390938\n",
      "10287/10287 [==============================] - 1s 140us/sample - loss: 0.0264 - mean_squared_error: 0.0264 - val_loss: 0.0291 - val_mean_squared_error: 0.0291\n",
      "Epoch 26/50\n",
      "10176/10287 [============================>.] - ETA: 0s - loss: 0.0262 - mean_squared_error: 0.0262interval evaluation - epoch: 25 - score: 0.361847\n",
      "10287/10287 [==============================] - 1s 135us/sample - loss: 0.0262 - mean_squared_error: 0.0262 - val_loss: 0.0295 - val_mean_squared_error: 0.0295\n",
      "Epoch 27/50\n",
      " 9888/10287 [===========================>..] - ETA: 0s - loss: 0.0258 - mean_squared_error: 0.0258interval evaluation - epoch: 26 - score: 0.367156\n",
      "10287/10287 [==============================] - 1s 137us/sample - loss: 0.0258 - mean_squared_error: 0.0258 - val_loss: 0.0300 - val_mean_squared_error: 0.0300\n",
      "Epoch 28/50\n",
      " 9984/10287 [============================>.] - ETA: 0s - loss: 0.0257 - mean_squared_error: 0.0257interval evaluation - epoch: 27 - score: 0.366598\n",
      "10287/10287 [==============================] - 1s 137us/sample - loss: 0.0257 - mean_squared_error: 0.0257 - val_loss: 0.0292 - val_mean_squared_error: 0.0292\n",
      "Epoch 29/50\n",
      " 9856/10287 [===========================>..] - ETA: 0s - loss: 0.0257 - mean_squared_error: 0.0257interval evaluation - epoch: 28 - score: 0.369904\n",
      "10287/10287 [==============================] - 1s 136us/sample - loss: 0.0256 - mean_squared_error: 0.0256 - val_loss: 0.0294 - val_mean_squared_error: 0.0294\n",
      "Epoch 30/50\n",
      "10112/10287 [============================>.] - ETA: 0s - loss: 0.0255 - mean_squared_error: 0.0255interval evaluation - epoch: 29 - score: 0.370791\n",
      "10287/10287 [==============================] - 2s 157us/sample - loss: 0.0255 - mean_squared_error: 0.0255 - val_loss: 0.0296 - val_mean_squared_error: 0.0296\n",
      "Epoch 31/50\n",
      "10048/10287 [============================>.] - ETA: 0s - loss: 0.0252 - mean_squared_error: 0.0252interval evaluation - epoch: 30 - score: 0.369289\n",
      "10287/10287 [==============================] - 2s 159us/sample - loss: 0.0252 - mean_squared_error: 0.0252 - val_loss: 0.0298 - val_mean_squared_error: 0.0298\n",
      "Epoch 32/50\n",
      " 9952/10287 [============================>.] - ETA: 0s - loss: 0.0250 - mean_squared_error: 0.0250interval evaluation - epoch: 31 - score: 0.353592\n",
      "10287/10287 [==============================] - 1s 130us/sample - loss: 0.0249 - mean_squared_error: 0.0249 - val_loss: 0.0292 - val_mean_squared_error: 0.0292\n",
      "Epoch 33/50\n",
      " 9888/10287 [===========================>..] - ETA: 0s - loss: 0.0255 - mean_squared_error: 0.0255interval evaluation - epoch: 32 - score: 0.432917\n",
      "10287/10287 [==============================] - 1s 135us/sample - loss: 0.0256 - mean_squared_error: 0.0256 - val_loss: 0.0285 - val_mean_squared_error: 0.0285\n",
      "Epoch 34/50\n",
      "10208/10287 [============================>.] - ETA: 0s - loss: 0.0246 - mean_squared_error: 0.0246interval evaluation - epoch: 33 - score: 0.367174\n",
      "10287/10287 [==============================] - 2s 167us/sample - loss: 0.0246 - mean_squared_error: 0.0246 - val_loss: 0.0287 - val_mean_squared_error: 0.0287\n",
      "Epoch 35/50\n",
      "10208/10287 [============================>.] - ETA: 0s - loss: 0.0243 - mean_squared_error: 0.0243interval evaluation - epoch: 34 - score: 0.382979\n",
      "10287/10287 [==============================] - 1s 140us/sample - loss: 0.0243 - mean_squared_error: 0.0243 - val_loss: 0.0286 - val_mean_squared_error: 0.0286\n",
      "Epoch 36/50\n",
      "10240/10287 [============================>.] - ETA: 0s - loss: 0.0245 - mean_squared_error: 0.0245interval evaluation - epoch: 35 - score: 0.346076\n",
      "10287/10287 [==============================] - 1s 99us/sample - loss: 0.0245 - mean_squared_error: 0.0245 - val_loss: 0.0297 - val_mean_squared_error: 0.0297\n",
      "Epoch 37/50\n",
      "10272/10287 [============================>.] - ETA: 0s - loss: 0.0245 - mean_squared_error: 0.0245interval evaluation - epoch: 36 - score: 0.386133\n",
      "10287/10287 [==============================] - 1s 98us/sample - loss: 0.0245 - mean_squared_error: 0.0245 - val_loss: 0.0294 - val_mean_squared_error: 0.0294\n",
      "Epoch 38/50\n",
      " 9856/10287 [===========================>..] - ETA: 0s - loss: 0.0244 - mean_squared_error: 0.0244interval evaluation - epoch: 37 - score: 0.413139\n",
      "10287/10287 [==============================] - 1s 102us/sample - loss: 0.0244 - mean_squared_error: 0.0244 - val_loss: 0.0282 - val_mean_squared_error: 0.0282\n",
      "Epoch 39/50\n",
      "10016/10287 [============================>.] - ETA: 0s - loss: 0.0243 - mean_squared_error: 0.0243interval evaluation - epoch: 38 - score: 0.390938\n",
      "10287/10287 [==============================] - 1s 95us/sample - loss: 0.0244 - mean_squared_error: 0.0244 - val_loss: 0.0284 - val_mean_squared_error: 0.0284\n",
      "Epoch 40/50\n",
      "10048/10287 [============================>.] - ETA: 0s - loss: 0.0237 - mean_squared_error: 0.0237interval evaluation - epoch: 39 - score: 0.355940\n",
      "10287/10287 [==============================] - 1s 117us/sample - loss: 0.0237 - mean_squared_error: 0.0237 - val_loss: 0.0288 - val_mean_squared_error: 0.0288\n",
      "Epoch 41/50\n",
      " 9728/10287 [===========================>..] - ETA: 0s - loss: 0.0240 - mean_squared_error: 0.0240interval evaluation - epoch: 40 - score: 0.382802\n",
      "10287/10287 [==============================] - 1s 92us/sample - loss: 0.0240 - mean_squared_error: 0.0240 - val_loss: 0.0289 - val_mean_squared_error: 0.0289\n",
      "Epoch 42/50\n",
      "10272/10287 [============================>.] - ETA: 0s - loss: 0.0239 - mean_squared_error: 0.0239interval evaluation - epoch: 41 - score: 0.429774\n",
      "10287/10287 [==============================] - 1s 104us/sample - loss: 0.0239 - mean_squared_error: 0.0239 - val_loss: 0.0281 - val_mean_squared_error: 0.0281\n",
      "Epoch 43/50\n",
      "10112/10287 [============================>.] - ETA: 0s - loss: 0.0236 - mean_squared_error: 0.0236interval evaluation - epoch: 42 - score: 0.417879\n",
      "10287/10287 [==============================] - 1s 101us/sample - loss: 0.0236 - mean_squared_error: 0.0236 - val_loss: 0.0285 - val_mean_squared_error: 0.0285\n",
      "Epoch 44/50\n",
      " 9952/10287 [============================>.] - ETA: 0s - loss: 0.0228 - mean_squared_error: 0.0228interval evaluation - epoch: 43 - score: 0.361108\n",
      "10287/10287 [==============================] - 1s 105us/sample - loss: 0.0230 - mean_squared_error: 0.0230 - val_loss: 0.0287 - val_mean_squared_error: 0.0287\n",
      "Epoch 45/50\n",
      " 9888/10287 [===========================>..] - ETA: 0s - loss: 0.0239 - mean_squared_error: 0.0239interval evaluation - epoch: 44 - score: 0.391910\n",
      "10287/10287 [==============================] - 1s 92us/sample - loss: 0.0238 - mean_squared_error: 0.0238 - val_loss: 0.0291 - val_mean_squared_error: 0.0291\n",
      "Epoch 46/50\n",
      "10240/10287 [============================>.] - ETA: 0s - loss: 0.0232 - mean_squared_error: 0.0232interval evaluation - epoch: 45 - score: 0.428152\n",
      "10287/10287 [==============================] - 1s 120us/sample - loss: 0.0232 - mean_squared_error: 0.0232 - val_loss: 0.0274 - val_mean_squared_error: 0.0274\n",
      "Epoch 47/50\n",
      "10240/10287 [============================>.] - ETA: 0s - loss: 0.0234 - mean_squared_error: 0.0234interval evaluation - epoch: 46 - score: 0.435338\n",
      "10287/10287 [==============================] - 1s 112us/sample - loss: 0.0234 - mean_squared_error: 0.0234 - val_loss: 0.0280 - val_mean_squared_error: 0.0280\n",
      "Epoch 48/50\n",
      "10176/10287 [============================>.] - ETA: 0s - loss: 0.0231 - mean_squared_error: 0.0231interval evaluation - epoch: 47 - score: 0.376580\n",
      "10287/10287 [==============================] - 1s 137us/sample - loss: 0.0231 - mean_squared_error: 0.0231 - val_loss: 0.0282 - val_mean_squared_error: 0.0282\n"
     ]
    },
    {
     "name": "stdout",
     "output_type": "stream",
     "text": [
      "Epoch 49/50\n",
      "10112/10287 [============================>.] - ETA: 0s - loss: 0.0226 - mean_squared_error: 0.0226interval evaluation - epoch: 48 - score: 0.428152\n",
      "10287/10287 [==============================] - 1s 95us/sample - loss: 0.0227 - mean_squared_error: 0.0227 - val_loss: 0.0276 - val_mean_squared_error: 0.0276\n",
      "Epoch 50/50\n",
      "10176/10287 [============================>.] - ETA: 0s - loss: 0.0225 - mean_squared_error: 0.0225interval evaluation - epoch: 49 - score: 0.402556\n",
      "10287/10287 [==============================] - 1s 104us/sample - loss: 0.0225 - mean_squared_error: 0.0225 - val_loss: 0.0271 - val_mean_squared_error: 0.0271\n"
     ]
    }
   ],
   "source": [
    "trainX, trainY, testX, testY = buildData()\n",
    "model = build_model()\n",
    "model.summary()\n",
    "#sess = tf.Session()\n",
    "ival = IntervalEvaluation(validation_data=(testX, testY), interval=1)\n",
    "history = model.fit(trainX, trainY, epochs=50,  callbacks=[ival], validation_split = 0.1, verbose=1)"
   ]
  },
  {
   "cell_type": "code",
   "execution_count": 35,
   "metadata": {},
   "outputs": [
    {
     "data": {
      "image/png": "[encoded data removed]",
      "text/plain": [
       "<Figure size 432x288 with 1 Axes>"
      ]
     },
     "metadata": {
      "needs_background": "light"
     },
     "output_type": "display_data"
    }
   ],
   "source": [
    "def plot_history(history):\n",
    "  hist = pd.DataFrame(history.history)\n",
    "  hist['epoch'] = history.epoch  \n",
    "  plt.figure()\n",
    "  plt.xlabel('Epoch')\n",
    "  plt.ylabel('Mean Square Error [$MSE^2$]')\n",
    "  plt.plot(hist['epoch'], hist['mean_squared_error'],\n",
    "           label='Train Error')\n",
    "  plt.plot(hist['epoch'], hist['val_mean_squared_error'],\n",
    "           label = 'Val Error')\n",
    "  plt.ylim([0,0.06])\n",
    "  plt.legend()\n",
    "  plt.show()\n",
    "\n",
    "\n",
    "plot_history(history)"
   ]
  },
  {
   "cell_type": "code",
   "execution_count": 29,
   "metadata": {},
   "outputs": [],
   "source": [
    "model.save(\"EssayModel.h5\")"
   ]
  },
  {
   "cell_type": "code",
   "execution_count": 40,
   "metadata": {},
   "outputs": [],
   "source": [
    "ans = model.predict(trainX)\n"
   ]
  },
  {
   "cell_type": "code",
   "execution_count": 41,
   "metadata": {},
   "outputs": [
    {
     "data": {
      "text/plain": [
       "array([0.5       , 0.66666667, 0.66666667, ..., 0.16666667, 0.73333333,\n",
       "       0.53333333])"
      ]
     },
     "execution_count": 41,
     "metadata": {},
     "output_type": "execute_result"
    }
   ],
   "source": [
    "testY"
   ]
  },
  {
   "cell_type": "code",
   "execution_count": 47,
   "metadata": {},
   "outputs": [
    {
     "name": "stdout",
     "output_type": "stream",
     "text": [
      "11045\n"
     ]
    }
   ],
   "source": [
    "c=0\n",
    "for x in trainY:\n",
    "    if(x>0.1):\n",
    "        c+=1\n",
    "print(c)"
   ]
  },
  {
   "cell_type": "code",
   "execution_count": 46,
   "metadata": {},
   "outputs": [
    {
     "name": "stdout",
     "output_type": "stream",
     "text": [
      "11430\n"
     ]
    }
   ],
   "source": [
    "c=0\n",
    "for x in ans:\n",
    "    if(x>0.1):\n",
    "        c+=1\n",
    "print(c)"
   ]
  },
  {
   "cell_type": "code",
   "execution_count": null,
   "metadata": {},
   "outputs": [],
   "source": []
  }
 ],
 "metadata": {
  "kernelspec": {
   "display_name": ".venv",
   "language": "python",
   "name": ".venv"
  },
  "language_info": {
   "codemirror_mode": {
    "name": "ipython",
    "version": 3
   },
   "file_extension": ".py",
   "mimetype": "text/x-python",
   "name": "python",
   "nbconvert_exporter": "python",
   "pygments_lexer": "ipython3",
   "version": "3.6.7"
  }
 },
 "nbformat": 4,
 "nbformat_minor": 2
}
